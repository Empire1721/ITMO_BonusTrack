{
 "cells": [
  {
   "cell_type": "markdown",
   "metadata": {},
   "source": [
    "# Выполнил Аксенов Роман"
   ]
  },
  {
   "cell_type": "markdown",
   "metadata": {},
   "source": [
    "Для решения поставленной задачи предсказания стоимости жилья на основе объявлений о продаже, разобьем процесс на следующие подзадачи:\n",
    "\n",
    "1. Постановка ML-задачи\n",
    "Определение типа задачи машинного обучения, которую мы будем решать, на основе предоставленных данных и целей заказчика.\n",
    "\n",
    "2. Выбор метрики качества\n",
    "Выбор и обоснование метрики (или метрик), которые будут использоваться для оценки качества модели.\n",
    "\n",
    "3. Предварительный разведочный анализ (EDA)\n",
    "Проведение разведочного анализа данных (EDA), включая изучение статистик, распределений и создание визуализаций, для получения представления о данных и выявления потенциальных проблем.\n",
    "\n",
    "4. Подготовка данных\n",
    "Подготовка данных для моделирования, включая обработку пропущенных значений, кодирование категориальных признаков и нормализацию данных, если это необходимо.\n",
    "\n",
    "5. Создание и оценка базовых моделей\n",
    "Выбор и обучение простой базовой модели (например, линейной регрессии) и константной модели для установления базового уровня качества предсказаний.\n",
    "\n",
    "6. Создание и оценка более сложной модели\n",
    "Выбор, обучение и настройка более сложной модели машинного обучения (например, ансамблевой модели) для улучшения качества предсказаний.\n",
    "\n",
    "7. Интерпретация модели\n",
    "Анализ важности признаков и интерпретация результатов модели, чтобы предоставить заказчику понимание, какие факторы влияют на цену недвижимости.\n"
   ]
  },
  {
   "cell_type": "code",
   "execution_count": 1,
   "metadata": {},
   "outputs": [],
   "source": [
    "# Подключение необходимых библиотек\n",
    "import pandas as pd\n",
    "import numpy as np\n",
    "import matplotlib.pyplot as plt\n",
    "import seaborn as sns\n",
    "from sklearn.model_selection import train_test_split\n",
    "from sklearn.impute import SimpleImputer\n",
    "from sklearn.preprocessing import OneHotEncoder, StandardScaler\n",
    "from sklearn.compose import ColumnTransformer\n",
    "from sklearn.pipeline import Pipeline\n",
    "from sklearn.dummy import DummyRegressor\n",
    "from sklearn.linear_model import LinearRegression\n",
    "from sklearn.ensemble import RandomForestRegressor\n",
    "from sklearn.metrics import mean_absolute_error"
   ]
  },
  {
   "cell_type": "code",
   "execution_count": 2,
   "metadata": {},
   "outputs": [
    {
     "data": {
      "text/html": [
       "<div>\n",
       "<style scoped>\n",
       "    .dataframe tbody tr th:only-of-type {\n",
       "        vertical-align: middle;\n",
       "    }\n",
       "\n",
       "    .dataframe tbody tr th {\n",
       "        vertical-align: top;\n",
       "    }\n",
       "\n",
       "    .dataframe thead th {\n",
       "        text-align: right;\n",
       "    }\n",
       "</style>\n",
       "<table border=\"1\" class=\"dataframe\">\n",
       "  <thead>\n",
       "    <tr style=\"text-align: right;\">\n",
       "      <th></th>\n",
       "      <th>product_name</th>\n",
       "      <th>period</th>\n",
       "      <th>price</th>\n",
       "      <th>postcode</th>\n",
       "      <th>address_name</th>\n",
       "      <th>lat</th>\n",
       "      <th>lon</th>\n",
       "      <th>object_type</th>\n",
       "      <th>total_square</th>\n",
       "      <th>rooms</th>\n",
       "      <th>floor</th>\n",
       "      <th>city</th>\n",
       "      <th>settlement</th>\n",
       "      <th>district</th>\n",
       "      <th>area</th>\n",
       "      <th>description</th>\n",
       "      <th>source</th>\n",
       "    </tr>\n",
       "  </thead>\n",
       "  <tbody>\n",
       "    <tr>\n",
       "      <th>0</th>\n",
       "      <td>3-комнатная, 137 м²</td>\n",
       "      <td>NaN</td>\n",
       "      <td>63000000</td>\n",
       "      <td>127473.0</td>\n",
       "      <td>2-й Щемиловский переулок, 5а</td>\n",
       "      <td>55.778894</td>\n",
       "      <td>37.608844</td>\n",
       "      <td>Квартира</td>\n",
       "      <td>137.0</td>\n",
       "      <td>3.0</td>\n",
       "      <td>6.0</td>\n",
       "      <td>Москва</td>\n",
       "      <td>NaN</td>\n",
       "      <td>Тверской район</td>\n",
       "      <td>NaN</td>\n",
       "      <td>Просторная квартира свободной планировки с пан...</td>\n",
       "      <td>ЦИАН</td>\n",
       "    </tr>\n",
       "    <tr>\n",
       "      <th>1</th>\n",
       "      <td>Студия, 16,7 м²</td>\n",
       "      <td>NaN</td>\n",
       "      <td>3250000</td>\n",
       "      <td>108815.0</td>\n",
       "      <td>Харлампиева, 46</td>\n",
       "      <td>55.551025</td>\n",
       "      <td>37.313054</td>\n",
       "      <td>Квартира</td>\n",
       "      <td>16.7</td>\n",
       "      <td>NaN</td>\n",
       "      <td>1.0</td>\n",
       "      <td>Москва</td>\n",
       "      <td>NaN</td>\n",
       "      <td>Филимонковское поселение</td>\n",
       "      <td>NaN</td>\n",
       "      <td>ВНИМАНИЕ! ОЧЕНЬ ПРИВЛЕКАТЕЛЬНОЕ ПРЕ...</td>\n",
       "      <td>Домклик</td>\n",
       "    </tr>\n",
       "    <tr>\n",
       "      <th>2</th>\n",
       "      <td>3-комнатная, 76 м²</td>\n",
       "      <td>NaN</td>\n",
       "      <td>16004680</td>\n",
       "      <td>NaN</td>\n",
       "      <td>ЖК Прокшино, 8 к4</td>\n",
       "      <td>55.594802</td>\n",
       "      <td>37.431264</td>\n",
       "      <td>Квартира</td>\n",
       "      <td>76.0</td>\n",
       "      <td>3.0</td>\n",
       "      <td>6.0</td>\n",
       "      <td>Москва</td>\n",
       "      <td>NaN</td>\n",
       "      <td>Сосенское поселение</td>\n",
       "      <td>NaN</td>\n",
       "      <td>Apт.1684018. 0,01% - гибкая ипотека! Воспользу...</td>\n",
       "      <td>Яндекс.Недвижимость</td>\n",
       "    </tr>\n",
       "    <tr>\n",
       "      <th>3</th>\n",
       "      <td>1-комнатная, 24 м²</td>\n",
       "      <td>NaN</td>\n",
       "      <td>7841776</td>\n",
       "      <td>NaN</td>\n",
       "      <td>ЖК Прокшино, 6 к2</td>\n",
       "      <td>55.594332</td>\n",
       "      <td>37.428099</td>\n",
       "      <td>Квартира</td>\n",
       "      <td>24.0</td>\n",
       "      <td>1.0</td>\n",
       "      <td>10.0</td>\n",
       "      <td>Москва</td>\n",
       "      <td>NaN</td>\n",
       "      <td>Сосенское поселение</td>\n",
       "      <td>NaN</td>\n",
       "      <td>Продается однокомнатная квартира № 381 в новос...</td>\n",
       "      <td>Новострой-М</td>\n",
       "    </tr>\n",
       "    <tr>\n",
       "      <th>4</th>\n",
       "      <td>3-комнатная, 126 м²</td>\n",
       "      <td>NaN</td>\n",
       "      <td>120000000</td>\n",
       "      <td>121352.0</td>\n",
       "      <td>Давыдковская, 18</td>\n",
       "      <td>55.721097</td>\n",
       "      <td>37.464342</td>\n",
       "      <td>Квартира</td>\n",
       "      <td>126.0</td>\n",
       "      <td>3.0</td>\n",
       "      <td>16.0</td>\n",
       "      <td>Москва</td>\n",
       "      <td>NaN</td>\n",
       "      <td>Фили-Давыдково район</td>\n",
       "      <td>NaN</td>\n",
       "      <td>Шикарное предложение!\\nПродаётся трёхкомнатная...</td>\n",
       "      <td>Домклик</td>\n",
       "    </tr>\n",
       "  </tbody>\n",
       "</table>\n",
       "</div>"
      ],
      "text/plain": [
       "          product_name  period      price  postcode  \\\n",
       "0  3-комнатная, 137 м²     NaN   63000000  127473.0   \n",
       "1      Студия, 16,7 м²     NaN    3250000  108815.0   \n",
       "2   3-комнатная, 76 м²     NaN   16004680       NaN   \n",
       "3   1-комнатная, 24 м²     NaN    7841776       NaN   \n",
       "4  3-комнатная, 126 м²     NaN  120000000  121352.0   \n",
       "\n",
       "                   address_name        lat        lon object_type  \\\n",
       "0  2-й Щемиловский переулок, 5а  55.778894  37.608844    Квартира   \n",
       "1               Харлампиева, 46  55.551025  37.313054    Квартира   \n",
       "2             ЖК Прокшино, 8 к4  55.594802  37.431264    Квартира   \n",
       "3             ЖК Прокшино, 6 к2  55.594332  37.428099    Квартира   \n",
       "4              Давыдковская, 18  55.721097  37.464342    Квартира   \n",
       "\n",
       "   total_square  rooms  floor    city settlement                  district  \\\n",
       "0         137.0    3.0    6.0  Москва        NaN            Тверской район   \n",
       "1          16.7    NaN    1.0  Москва        NaN  Филимонковское поселение   \n",
       "2          76.0    3.0    6.0  Москва        NaN       Сосенское поселение   \n",
       "3          24.0    1.0   10.0  Москва        NaN       Сосенское поселение   \n",
       "4         126.0    3.0   16.0  Москва        NaN      Фили-Давыдково район   \n",
       "\n",
       "  area                                        description               source  \n",
       "0  NaN  Просторная квартира свободной планировки с пан...                 ЦИАН  \n",
       "1  NaN             ВНИМАНИЕ! ОЧЕНЬ ПРИВЛЕКАТЕЛЬНОЕ ПРЕ...              Домклик  \n",
       "2  NaN  Apт.1684018. 0,01% - гибкая ипотека! Воспользу...  Яндекс.Недвижимость  \n",
       "3  NaN  Продается однокомнатная квартира № 381 в новос...          Новострой-М  \n",
       "4  NaN  Шикарное предложение!\\nПродаётся трёхкомнатная...              Домклик  "
      ]
     },
     "execution_count": 2,
     "metadata": {},
     "output_type": "execute_result"
    }
   ],
   "source": [
    "# Загрузка данных\n",
    "data_path = 'realty_data.csv'\n",
    "data = pd.read_csv(data_path)\n",
    "data.head()"
   ]
  },
  {
   "cell_type": "code",
   "execution_count": 3,
   "metadata": {},
   "outputs": [],
   "source": [
    "## Подзадача 1: Постановка ML-задачи\n",
    "# Описываем, что на основе данных о продаже недвижимости (цены, площади, количества комнат и др.) мы будем решать задачу регрессии: предсказывать стоимость недвижимости.\n",
    "\n",
    "## Подзадача 2: Выбор метрики качества\n",
    "# Объясняем выбор метрики. Для задачи регрессии хорошо подходит MAE, так как она показывает среднюю абсолютную ошибку между предсказанными и фактическими ценами. MAE легко интерпретируется и дает понимание о среднем отклонении предсказаний от истинных значений."
   ]
  },
  {
   "cell_type": "code",
   "execution_count": 4,
   "metadata": {},
   "outputs": [
    {
     "data": {
      "image/png": "[encoded data removed]",
      "text/plain": [
       "<Figure size 432x288 with 1 Axes>"
      ]
     },
     "metadata": {
      "needs_background": "light"
     },
     "output_type": "display_data"
    },
    {
     "data": {
      "image/png": "[encoded data removed]",
      "text/plain": [
       "<Figure size 432x288 with 1 Axes>"
      ]
     },
     "metadata": {
      "needs_background": "light"
     },
     "output_type": "display_data"
    }
   ],
   "source": [
    "## Подзадача 3: Предварительный разведочный анализ (EDA)\n",
    "# Визуализируем распределение цен для понимания общего диапазона стоимости недвижимости.\n",
    "sns.histplot(data['price'], kde=True)\n",
    "plt.title('Распределение цен на недвижимость')\n",
    "plt.show()\n",
    "\n",
    "# Анализируем распределение количества комнат, чтобы увидеть, какие типы квартир встречаются чаще всего.\n",
    "sns.countplot(x='rooms', data=data)\n",
    "plt.title('Распределение количества комнат в недвижимости')\n",
    "plt.show()\n",
    "\n",
    "## Подзадача 4: Подготовка данных\n",
    "# Выделяем числовые и категориальные признаки для дальнейшей обработки.\n",
    "num_features = data.select_dtypes(include=['int64', 'float64']).columns.drop('price').tolist()\n",
    "cat_features = data.select_dtypes(include=['object']).columns.tolist()\n",
    "\n",
    "# Создаем пайплайны для обработки числовых и категориальных данных.\n",
    "num_transformer = Pipeline(steps=[\n",
    "    ('imputer', SimpleImputer(strategy='median')),\n",
    "    ('scaler', StandardScaler())])\n",
    "\n",
    "cat_transformer = Pipeline(steps=[\n",
    "    ('imputer', SimpleImputer(strategy='most_frequent')),\n",
    "    ('onehot', OneHotEncoder(handle_unknown='ignore'))])\n",
    "\n",
    "# Объединяем обработку в один ColumnTransformer.\n",
    "preprocessor = ColumnTransformer(transformers=[\n",
    "    ('num', num_transformer, num_features),\n",
    "    ('cat', cat_transformer, cat_features)])\n",
    "\n",
    "# Подготавливаем признаки и целевую переменную, разделяем на обучающую и тестовую выборки.\n",
    "X = data.drop('price', axis=1)\n",
    "y = data['price']\n",
    "X_train, X_test, y_train, y_test = train_test_split(X, y, test_size=0.2, random_state=37)\n",
    "X_train_prepared = preprocessor.fit_transform(X_train)\n",
    "X_test_prepared = preprocessor.transform(X_test)"
   ]
  },
  {
   "cell_type": "code",
   "execution_count": 5,
   "metadata": {},
   "outputs": [
    {
     "name": "stdout",
     "output_type": "stream",
     "text": [
      "MAE константной модели: 15093348.798128003\n",
      "MAE линейной регрессии: 5452846.427251184\n"
     ]
    }
   ],
   "source": [
    "\n",
    "## Подзадача 5: Создание и оценка базовых моделей\n",
    "# Обучаем константную модель и модель линейной регрессии, сравниваем их MAE.\n",
    "dummy_regressor = DummyRegressor(strategy=\"median\")\n",
    "dummy_regressor.fit(X_train_prepared, y_train)\n",
    "y_pred_dummy = dummy_regressor.predict(X_test_prepared)\n",
    "mae_dummy = mean_absolute_error(y_test, y_pred_dummy)\n",
    "\n",
    "linear_regressor = LinearRegression()\n",
    "linear_regressor.fit(X_train_prepared, y_train)\n",
    "y_pred_linear = linear_regressor.predict(X_test_prepared)\n",
    "mae_linear = mean_absolute_error(y_test, y_pred_linear)\n",
    "\n",
    "print(f'MAE константной модели: {mae_dummy}')\n",
    "print(f'MAE линейной регрессии: {mae_linear}')"
   ]
  },
  {
   "cell_type": "code",
   "execution_count": 6,
   "metadata": {},
   "outputs": [
    {
     "name": "stdout",
     "output_type": "stream",
     "text": [
      "MAE случайного леса: 2788689.7873006277\n"
     ]
    }
   ],
   "source": [
    "## Подзадача 6: Создание и оценка более сложной модели\n",
    "# Применяем более сложную модель - случайный лес. Это ансамблевая модель, которая часто показывает лучшее качество на разнообразных данных.\n",
    "random_forest_regressor = RandomForestRegressor(n_estimators=100, random_state=37)\n",
    "random_forest_regressor.fit(X_train_prepared, y_train)\n",
    "y_pred_rf = random_forest_regressor.predict(X_test_prepared)\n",
    "mae_rf = mean_absolute_error(y_test, y_pred_rf)\n",
    "print(f'MAE случайного леса: {mae_rf}')"
   ]
  },
  {
   "cell_type": "code",
   "execution_count": 7,
   "metadata": {},
   "outputs": [],
   "source": [
    "\n",
    "\n",
    "\n",
    "## Подзадача 7: Интерпретация модели\n",
    "# Анализируем важность признаков для модели случайного леса, чтобы понять, какие факторы больше всего влияют на ценообразование.\n",
    "# feature_importances = random_forest_regressor.feature_importances_\n",
    "# sns.barplot(x=feature_importances, y=[str(i) for i in range(len(feature_importances))])\n",
    "# plt.title('Важность признаков в модели случайного леса')\n",
    "# plt.show()  \n"
   ]
  },
  {
   "cell_type": "markdown",
   "metadata": {},
   "source": [
    "## Подзадача 1\n",
    "### Постановка ML-задачи\n",
    "Задача регрессии была выбрана потому, что целью является предсказание стоимости недвижимости, которая является непрерывной переменной. Регрессия — это тип задачи машинного обучения, который подходит для прогнозирования количественных ответов.\n",
    "\n",
    "## Подзадача 2 \n",
    "### Выбор метрики качества\n",
    "MAE (средняя абсолютная ошибка) была выбрана в качестве метрики качества, потому что она представляет собой среднее значение абсолютных разностей между предсказанными и истинными значениями, что делает её понятной и легко интерпретируемой. MAE позволяет оценить среднюю ошибку в единицах измеряемой величины, что удобно для анализа и сравнения моделей.\n",
    "\n",
    "## Подзадача 3 \n",
    "### Предварительный разведочный анализ (EDA)\n",
    "Визуализация распределения цен и количества комнат позволяет понять основные тенденции и распределения данных, с которыми мы работаем. Это важный шаг, который помогает определить необходимость предобработки данных, такую как нормализация или логарифмирование, а также выявить аномалии или выбросы.\n",
    "\n",
    "## Подзадача 4 \n",
    "### Подготовка данных\n",
    "Разделение признаков на числовые и категориальные, а также их последующая обработка необходимы для корректного обучения моделей. Числовые данные нормализуются для улучшения сходимости модели, а категориальные данные преобразуются в числовые с помощью OneHotEncoding, чтобы модель могла корректно их интерпретировать.\n",
    "\n",
    "## Подзадача 5 \n",
    "### Создание и оценка базовых моделей\n",
    "Обучение константной модели и линейной регрессии, а затем сравнение их MAE позволяет оценить, насколько лучше более сложная модель работает по сравнению с простым базовым уровнем. Это помогает понять, стоит ли усложнять модель дальше.\n",
    "\n",
    "## Подзадача 6 \n",
    "### Создание и оценка более сложной модели\n",
    "Использование случайного леса, ансамблевой модели, позволяет улучшить качество предсказаний благодаря более сложной структуре и возможности моделировать нелинейные зависимости. Подбор гиперпараметров (в данном случае, количество деревьев) улучшает способность модели адаптироваться к данным без переобучения.\n",
    "\n",
    "## Подзадача 7 \n",
    "### Интерпретация модели\n",
    "Анализ важности признаков в модели случайного леса позволяет понять, какие факторы больше всего влияют на цену недвижимости. Это важно не только для улучшения модели, но и для получения бизнес-инсайтов о рынке недвижимости."
   ]
  },
  {
   "cell_type": "markdown",
   "metadata": {},
   "source": [
    "## Исправления"
   ]
  },
  {
   "cell_type": "code",
   "execution_count": 8,
   "metadata": {},
   "outputs": [
    {
     "name": "stdout",
     "output_type": "stream",
     "text": [
      "       period         price       postcode           lat           lon  \\\n",
      "count     0.0  9.882200e+04   93675.000000  98822.000000  98822.000000   \n",
      "mean      NaN  2.512122e+07  124503.585119     55.742691     37.586404   \n",
      "std       NaN  3.607234e+07   11956.742109      0.107044      0.169843   \n",
      "min       NaN  1.900000e+06  101000.000000     55.468426     37.136489   \n",
      "25%       NaN  1.050000e+07  115516.000000     55.673101     37.471611   \n",
      "50%       NaN  1.516713e+07  123154.000000     55.745474     37.569365   \n",
      "75%       NaN  2.500000e+07  140003.000000     55.817697     37.689568   \n",
      "max       NaN  1.155219e+09  143989.000000     56.028824     38.122467   \n",
      "\n",
      "       total_square         rooms         floor  \n",
      "count  98822.000000  94840.000000  98822.000000  \n",
      "mean      66.092176      2.197427      9.905274  \n",
      "std       48.816204      1.038628      8.219180  \n",
      "min        8.000000      1.000000      1.000000  \n",
      "25%       40.100000      1.000000      4.000000  \n",
      "50%       56.400000      2.000000      8.000000  \n",
      "75%       75.700000      3.000000     14.000000  \n",
      "max     2070.000000     15.000000     66.000000  \n"
     ]
    }
   ],
   "source": [
    "# Посмотрим на базовые характеристики набора данных, такие как средние значения, стандартное отклонение и т. д.\n",
    "print(data.describe())\n",
    "\n"
   ]
  },
  {
   "cell_type": "markdown",
   "metadata": {},
   "source": [
    "### Из описания базовых характеристик набора данных мы можем сделать следующие наблюдения\n",
    "\n",
    "1) Средняя цена недвижимости составляет около 25 миллионов, с стандартным отклонением около 36 миллионов. \n",
    "Это говорит о значительном разбросе цен.\n",
    "2) Средняя общая площадь составляет около 66 квадратных метров, с минимальным значением 8 квадратных метров и максимальным значением 2070 квадратных метров. Видимо, есть некоторые выбросы или аномальные значения, которые нужно обработать.\n",
    "3) Среднее количество комнат составляет около 2, что вполне типично для жилых помещений.\n",
    "4) Средний этаж, на котором расположена недвижимость, составляет около 10, с минимальным значением 1 и максимальным значением 66. Возможно, нужно проверить данные на наличие выбросов.\n",
    "\n",
    "### Теперь давайте визуализируем корреляцию между числовыми признаками, чтобы лучше понять их взаимосвязь\n",
    "\n",
    "Это позволит нам оценить силу и направление связи между числовыми признаками. Если корреляция слишком высока между какими-то признаками, это может привести к проблеме мультиколлинеарности, что следует учитывать при построении модели."
   ]
  },
  {
   "cell_type": "code",
   "execution_count": 9,
   "metadata": {},
   "outputs": [
    {
     "data": {
      "image/png": "[encoded data removed]",
      "text/plain": [
       "<Figure size 360x288 with 2 Axes>"
      ]
     },
     "metadata": {
      "needs_background": "light"
     },
     "output_type": "display_data"
    }
   ],
   "source": [
    "# Визуализируем корреляцию между числовыми признаками, чтобы понять, как они взаимосвязаны.\n",
    "plt.figure(figsize=(5, 4))\n",
    "sns.heatmap(data.corr(), annot=True, cmap='coolwarm', fmt=\".2f\")\n",
    "plt.title('Корреляционная матрица числовых признаков')\n",
    "plt.show()"
   ]
  },
  {
   "cell_type": "markdown",
   "metadata": {},
   "source": [
    "### Теперь приступим к подбору гиперпараметров с использованием scikit-learn методов на кросс-валидации"
   ]
  },
  {
   "cell_type": "code",
   "execution_count": 10,
   "metadata": {},
   "outputs": [
    {
     "name": "stdout",
     "output_type": "stream",
     "text": [
      "Лучшие гиперпараметры: {'max_depth': None, 'min_samples_leaf': 1, 'min_samples_split': 2, 'n_estimators': 150}\n",
      "Лучшая оценка MAE на кросс-валидации: 2863814.8527671746\n"
     ]
    }
   ],
   "source": [
    "from sklearn.model_selection import GridSearchCV\n",
    "\n",
    "# Определим сетку гиперпараметров для случайного леса\n",
    "param_grid = {\n",
    "    'n_estimators': [50, 100, 150],\n",
    "    'max_depth': [None, 10, 20, 30],\n",
    "    'min_samples_split': [2, 5, 10],\n",
    "    'min_samples_leaf': [1, 2, 4]\n",
    "}\n",
    "\n",
    "# Создадим экземпляр модели\n",
    "rf = RandomForestRegressor(random_state=37)\n",
    "\n",
    "# Инициализируем GridSearchCV\n",
    "grid_search = GridSearchCV(estimator=rf, param_grid=param_grid, \n",
    "                           cv=5, scoring='neg_mean_absolute_error', n_jobs=-1)\n",
    "\n",
    "# Проведем поиск по сетке\n",
    "grid_search.fit(X_train_prepared, y_train)\n",
    "\n",
    "# Выведем лучшие гиперпараметры и оценку на кросс-валидации\n",
    "print(\"Лучшие гиперпараметры:\", grid_search.best_params_)\n",
    "print(\"Лучшая оценка MAE на кросс-валидации:\", -grid_search.best_score_)\n"
   ]
  },
  {
   "cell_type": "markdown",
   "metadata": {},
   "source": [
    "### Подбор гиперпараметров с использованием Optuna"
   ]
  },
  {
   "cell_type": "code",
   "execution_count": null,
   "metadata": {},
   "outputs": [
    {
     "name": "stderr",
     "output_type": "stream",
     "text": [
      "[I 2024-03-03 12:24:57,116] A new study created in memory with name: no-name-bbdd3d11-6c5f-4867-b4b8-214b4b84a1ac\n",
      "[I 2024-03-03 14:05:45,172] Trial 0 finished with value: 3565290.7954009846 and parameters: {'n_estimators': 198, 'max_depth': 20, 'min_samples_split': 18, 'min_samples_leaf': 10}. Best is trial 0 with value: 3565290.7954009846.\n",
      "[I 2024-03-03 14:41:49,299] Trial 1 finished with value: 6873303.220809044 and parameters: {'n_estimators': 110, 'max_depth': 5, 'min_samples_split': 18, 'min_samples_leaf': 7}. Best is trial 0 with value: 3565290.7954009846.\n",
      "[I 2024-03-03 15:06:41,306] Trial 2 finished with value: 6203166.958972919 and parameters: {'n_estimators': 75, 'max_depth': 6, 'min_samples_split': 5, 'min_samples_leaf': 3}. Best is trial 0 with value: 3565290.7954009846.\n",
      "[I 2024-03-03 16:53:07,638] Trial 3 finished with value: 3390479.3846593993 and parameters: {'n_estimators': 196, 'max_depth': 30, 'min_samples_split': 19, 'min_samples_leaf': 6}. Best is trial 3 with value: 3390479.3846593993.\n",
      "[I 2024-03-03 18:26:08,682] Trial 4 finished with value: 3538857.560505704 and parameters: {'n_estimators': 179, 'max_depth': 26, 'min_samples_split': 19, 'min_samples_leaf': 10}. Best is trial 3 with value: 3390479.3846593993.\n",
      "[I 2024-03-03 19:48:51,495] Trial 5 finished with value: 3197028.4829597897 and parameters: {'n_estimators': 138, 'max_depth': 28, 'min_samples_split': 15, 'min_samples_leaf': 3}. Best is trial 5 with value: 3197028.4829597897.\n",
      "[I 2024-03-03 21:24:45,684] Trial 6 finished with value: 3543247.6499938555 and parameters: {'n_estimators': 186, 'max_depth': 23, 'min_samples_split': 4, 'min_samples_leaf': 10}. Best is trial 5 with value: 3197028.4829597897.\n",
      "[I 2024-03-03 21:51:19,163] Trial 7 finished with value: 6219643.816331662 and parameters: {'n_estimators': 80, 'max_depth': 6, 'min_samples_split': 14, 'min_samples_leaf': 8}. Best is trial 5 with value: 3197028.4829597897.\n",
      "[I 2024-03-04 00:19:26,709] Trial 8 finished with value: 2947796.34355076 and parameters: {'n_estimators': 174, 'max_depth': 25, 'min_samples_split': 5, 'min_samples_leaf': 2}. Best is trial 8 with value: 2947796.34355076.\n",
      "[I 2024-03-04 00:39:39,338] Trial 9 finished with value: 6227501.566612224 and parameters: {'n_estimators': 61, 'max_depth': 6, 'min_samples_split': 18, 'min_samples_leaf': 1}. Best is trial 8 with value: 2947796.34355076.\n",
      "[I 2024-03-04 01:48:58,003] Trial 10 finished with value: 3728269.8891592333 and parameters: {'n_estimators': 152, 'max_depth': 14, 'min_samples_split': 8, 'min_samples_leaf': 1}. Best is trial 8 with value: 2947796.34355076.\n",
      "[I 2024-03-04 03:13:14,597] Trial 11 finished with value: 3192300.74233338 and parameters: {'n_estimators': 138, 'max_depth': 30, 'min_samples_split': 12, 'min_samples_leaf': 4}. Best is trial 8 with value: 2947796.34355076.\n",
      "[I 2024-03-04 04:57:05,836] Trial 12 finished with value: 3165867.6117489347 and parameters: {'n_estimators': 165, 'max_depth': 24, 'min_samples_split': 10, 'min_samples_leaf': 4}. Best is trial 8 with value: 2947796.34355076.\n",
      "[I 2024-03-04 06:23:22,906] Trial 13 finished with value: 3437416.28573787 and parameters: {'n_estimators': 166, 'max_depth': 16, 'min_samples_split': 8, 'min_samples_leaf': 4}. Best is trial 8 with value: 2947796.34355076.\n",
      "[I 2024-03-04 07:40:34,944] Trial 14 finished with value: 3042152.484080954 and parameters: {'n_estimators': 113, 'max_depth': 23, 'min_samples_split': 8, 'min_samples_leaf': 2}. Best is trial 8 with value: 2947796.34355076.\n",
      "[I 2024-03-04 09:08:25,066] Trial 15 finished with value: 3021014.456877087 and parameters: {'n_estimators': 112, 'max_depth': 21, 'min_samples_split': 2, 'min_samples_leaf': 2}. Best is trial 8 with value: 2947796.34355076.\n"
     ]
    }
   ],
   "source": [
    "import optuna\n",
    "\n",
    "from sklearn.model_selection import cross_val_score\n",
    "\n",
    "def objective(trial):\n",
    "    params = {\n",
    "        'n_estimators': trial.suggest_int('n_estimators', 50, 200),\n",
    "        'max_depth': trial.suggest_int('max_depth', 5, 30),\n",
    "        'min_samples_split': trial.suggest_int('min_samples_split', 2, 20),\n",
    "        'min_samples_leaf': trial.suggest_int('min_samples_leaf', 1, 10)\n",
    "    }\n",
    "    \n",
    "    rf = RandomForestRegressor(**params, random_state=37)\n",
    "    mae_scores = cross_val_score(rf, X_train_prepared, y_train, \n",
    "                                 cv=5, scoring='neg_mean_absolute_error')\n",
    "    return -mae_scores.mean()\n",
    "\n",
    "study = optuna.create_study(direction='minimize')\n",
    "study.optimize(objective, n_trials=100)\n",
    "\n",
    "print(\"Лучшие гиперпараметры:\", study.best_params)\n",
    "print(\"Лучшая оценка MAE на кросс-валидации:\", -study.best_value)\n"
   ]
  },
  {
   "cell_type": "code",
   "execution_count": null,
   "metadata": {},
   "outputs": [],
   "source": [
    "# После выбора лучших гиперпараметров мы обучаем модель с этими параметрами\n",
    "best_params = study.best_params  # или grid_search.best_params_\n",
    "best_rf = RandomForestRegressor(**best_params, random_state=37)\n",
    "best_rf.fit(X_train_prepared, y_train)\n",
    "y_pred_best_rf = best_rf.predict(X_test_prepared)\n",
    "mae_best_rf = mean_absolute_error(y_test, y_pred_best_rf)\n",
    "print(f'MAE лучшей модели случайного леса: {mae_best_rf}')\n"
   ]
  },
  {
   "cell_type": "markdown",
   "metadata": {},
   "source": [
    "Касательно экспертного мнения о модели, важно отметить, что она может быть адекватной, если важные признаки были правильно идентифицированы и модель не переобучилась. Для этого необходимо оценить важность признаков, перестановочные важности, SHAP значения и т.д.\n",
    "\n",
    "Для визуализации важности признаков, я буду использовать SHAP значения, так как они предоставляют более глубокое понимание о влиянии каждого признака на модель.\n",
    "Этот график ниже позволяет легко интерпретировать, какие признаки оказывают наибольшее влияние на модель, и в каком направлении."
   ]
  },
  {
   "cell_type": "code",
   "execution_count": null,
   "metadata": {},
   "outputs": [],
   "source": [
    "import shap\n",
    "\n",
    "# Обучение explainer'а\n",
    "explainer = shap.Explainer(best_rf, X_train_prepared)\n",
    "shap_values = explainer.shap_values(X_test_prepared)\n",
    "\n",
    "# Визуализация SHAP значений\n",
    "shap.summary_plot(shap_values, X_test_prepared, feature_names=X.columns)\n"
   ]
  },
  {
   "cell_type": "code",
   "execution_count": null,
   "metadata": {},
   "outputs": [],
   "source": []
  }
 ],
 "metadata": {
  "kernelspec": {
   "display_name": "Python 3 (ipykernel)",
   "language": "python",
   "name": "python3"
  },
  "language_info": {
   "codemirror_mode": {
    "name": "ipython",
    "version": 3
   },
   "file_extension": ".py",
   "mimetype": "text/x-python",
   "name": "python",
   "nbconvert_exporter": "python",
   "pygments_lexer": "ipython3",
   "version": "3.9.7"
  }
 },
 "nbformat": 4,
 "nbformat_minor": 2
}
